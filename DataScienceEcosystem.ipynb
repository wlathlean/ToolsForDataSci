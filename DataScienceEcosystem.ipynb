{
 "cells": [
  {
   "cell_type": "markdown",
   "id": "38c28725-aa14-47b5-98ed-a150fe81d58a",
   "metadata": {},
   "source": [
    "# Data Science Tools and Ecosystem "
   ]
  },
  {
   "cell_type": "markdown",
   "id": "e4eafafe-4803-4e18-b043-a1ceac66fc12",
   "metadata": {
    "tags": []
   },
   "source": [
    "## Introduction –\n",
    "### This is the final assignment in the Tools for Data Science course.\n",
    "### This course was an introduction to multiple data science tools.\n",
    "### I will be using Jupyterlite Notebook to demonstrate the concepts learned \n",
    "### in the course, and I will be sharing the project publicly on GitHub. \n"
   ]
  },
  {
   "cell_type": "markdown",
   "id": "3edb4057-d97b-4f15-ae39-826c81358c54",
   "metadata": {},
   "source": [
    "### **Objectives:**\n",
    "+ List programming languages used in Data Science\n",
    "+ List some of the libraries used in Data Science\n",
    "+ Demonstrate some of the uses and capabilities of Jupyter Notebooks and Python\n"
   ]
  },
  {
   "cell_type": "markdown",
   "id": "cc523dad-8a90-40dc-ab83-c66cc5db6149",
   "metadata": {},
   "source": [
    "## Author:\n",
    "William (Bill) Lathlean\n"
   ]
  },
  {
   "cell_type": "markdown",
   "id": "9505992c-8d63-43fc-a967-a9a5a561449b",
   "metadata": {
    "jp-MarkdownHeadingCollapsed": true,
    "tags": []
   },
   "source": [
    "#### Multiple programming languages can be used in data science.\n",
    "#### Here is a list of some of them:\n",
    "1. Python \n",
    "2. R\n",
    "3. SQL\n",
    "4. Java\n",
    "5. Scala\n",
    "6. C++\n",
    "7. JavaScript\n",
    "8. Julia\n"
   ]
  },
  {
   "cell_type": "markdown",
   "id": "adb32a0e-012e-4a0d-a728-d2d46f019113",
   "metadata": {
    "tags": []
   },
   "source": [
    "#### Python is a popular language used in data science.  \n",
    "#### Many libraries are available to enhance Python's use in data science.\n",
    "#### Some of the libraries commonly used by Data Scientists include:\n",
    "1. Pandas, NumPy, SciPy (structured data, arrays, mathematical and scientific functions)\n",
    "2. Matplotlib, Seaborn (data visualization)\n",
    "3. Scikit-learn, Keras, TensorFlow (Machine Learning)\n"
   ]
  },
  {
   "cell_type": "markdown",
   "id": "b3b33fac-21a1-4b2c-b09c-ec88df7f2cfb",
   "metadata": {},
   "source": [
    "| Data Science Tools |\n",
    "| -------------------------|\n",
    "| Jupyter Notebooks | \n",
    "| R Studio | \n",
    "| GitHub | \n"
   ]
  },
  {
   "cell_type": "markdown",
   "id": "03745771-76e2-4a86-a5cc-66d9691774cf",
   "metadata": {},
   "source": [
    "### Arithmetic Expressions in Jupyter Notebooks\n",
    "#### Using code cells in Jupyter Notebooks allows you to write and execute arithmetic expressions like the following:\n",
    "#### Addition and Subtraction \n",
    "+ (8+9) \n",
    "+ (9-7)\n",
    "+ (110-90)-349\n",
    "\n",
    "#### Multiplication and Division\n",
    "+ 8*9\n",
    "+ 16/8\n",
    "\n",
    "#### More complex equations\n",
    "+ 10^2\n",
    "+ 4*(2^5)-32\n",
    "\n",
    "#### Below are a few examples of evaluating arithmetic expressions in Python:"
   ]
  },
  {
   "cell_type": "code",
   "execution_count": 3,
   "id": "3f02487e-45f1-4030-9ef7-866e76e50f3a",
   "metadata": {},
   "outputs": [
    {
     "data": {
      "text/plain": [
       "17"
      ]
     },
     "execution_count": 3,
     "metadata": {},
     "output_type": "execute_result"
    }
   ],
   "source": [
    "# This is a simple arithmetic expression to mutiply then add integers.\n",
    "\n",
    "(3*4)+5"
   ]
  },
  {
   "cell_type": "code",
   "execution_count": 4,
   "id": "e1974b13-5593-4ff0-931c-58ed7deba65b",
   "metadata": {},
   "outputs": [
    {
     "name": "stdout",
     "output_type": "stream",
     "text": [
      "200 minutes is equal to 3.3333333333333335 hours.\n"
     ]
    }
   ],
   "source": [
    "# Example of a Code cell that converts minutes to hours\n",
    "Minutes = 200\n",
    "Hours = Minutes/60\n",
    "print(f'{Minutes} minutes is equal to {Hours} hours.')\n"
   ]
  }
 ],
 "metadata": {
  "kernelspec": {
   "display_name": "Python 3 (ipykernel)",
   "language": "python",
   "name": "python3"
  },
  "language_info": {
   "codemirror_mode": {
    "name": "ipython",
    "version": 3
   },
   "file_extension": ".py",
   "mimetype": "text/x-python",
   "name": "python",
   "nbconvert_exporter": "python",
   "pygments_lexer": "ipython3",
   "version": "3.11.0"
  }
 },
 "nbformat": 4,
 "nbformat_minor": 5
}
